{
  "nbformat": 4,
  "nbformat_minor": 0,
  "metadata": {
    "colab": {
      "private_outputs": true,
      "provenance": []
    },
    "kernelspec": {
      "name": "python3",
      "display_name": "Python 3"
    },
    "language_info": {
      "name": "python"
    }
  },
  "cells": [
    {
      "cell_type": "code",
      "source": [
        "import numpy as np\n",
        "import cv2\n",
        "from PIL import Image\n",
        "\n",
        "def calculate_pixels_for_distance(image_path, known_distance_um):\n",
        "    \"\"\"\n",
        "    Calculates the number of pixels corresponding to a known distance in an image of a scale bar (ROI).\n",
        "\n",
        "    Args:\n",
        "        image_path (str): Path to the ROI image containing the scale bar.\n",
        "        known_distance_um (float): Known distance (e.g., 1 μm) corresponding to the scale bar.\n",
        "\n",
        "    Returns:\n",
        "        num_pixels (int): Number of pixels corresponding to the known distance.\n",
        "    \"\"\"\n",
        "    # Load the image and convert it to grayscale\n",
        "    image = Image.open(image_path).convert('L')\n",
        "    image_array = np.array(image)\n",
        "\n",
        "    # Threshold the image to isolate the scale bar\n",
        "    _, thresholded = cv2.threshold(image_array, 128, 255, cv2.THRESH_BINARY)\n",
        "\n",
        "    # Detect contours in the thresholded image\n",
        "    contours, _ = cv2.findContours(thresholded, cv2.RETR_EXTERNAL, cv2.CHAIN_APPROX_SIMPLE)\n",
        "\n",
        "    # Find the largest contour (assumed to be the scale bar)\n",
        "    largest_contour = max(contours, key=cv2.contourArea)\n",
        "    x, y, w, h = cv2.boundingRect(largest_contour)  # Get bounding box of the scale bar\n",
        "\n",
        "    # Width of the bounding box is the number of pixels for the scale bar\n",
        "    num_pixels = w\n",
        "\n",
        "    return num_pixels\n",
        "\n",
        "# Example usage\n",
        "image_path = '/content/1_length.tif'  # Path to the uploaded ROI image\n",
        "known_distance_um = 1  # Known distance (in micrometers)\n",
        "\n",
        "num_pixels = calculate_pixels_for_distance(image_path, known_distance_um)\n",
        "print(f\"Number of Pixels Corresponding to {known_distance_um} μm: {num_pixels}\")\n"
      ],
      "metadata": {
        "id": "0rWmiHnI6BSq"
      },
      "execution_count": null,
      "outputs": []
    },
    {
      "cell_type": "code",
      "execution_count": null,
      "metadata": {
        "id": "hYdoKwdp31V6"
      },
      "outputs": [],
      "source": [
        "import numpy as np\n",
        "import matplotlib.pyplot as plt\n",
        "from PIL import Image\n",
        "\n",
        "# Load the image and convert to grayscale\n",
        "image_path = '/content/1a.tif'  # Update your image path if needed\n",
        "image = Image.open(image_path).convert('L')\n",
        "image_array = np.array(image)\n",
        "\n",
        "# Known scaling: 1 μm corresponds to N pixels (replace 'N' with the actual value)\n",
        "known_distance_um = 1  # Known distance in micrometers (1 μm)\n",
        "pixels_for_known_distance = num_pixels  # Replace with actual pixel count for 1 μm\n",
        "pixel_size_um = known_distance_um / pixels_for_known_distance  # Pixel size in micrometers\n",
        "\n",
        "# Apply 2D Fourier Transform\n",
        "fft_image = np.fft.fft2(image_array)\n",
        "fft_image_shifted = np.fft.fftshift(fft_image)  # Shift zero frequency to the center\n",
        "\n",
        "# Compute the magnitude spectrum\n",
        "magnitude_spectrum = np.log(np.abs(fft_image_shifted) + 1)\n",
        "\n",
        "# Calculate spatial frequency axes (in μm^-1)\n",
        "height, width = image_array.shape\n",
        "freq_x = np.fft.fftshift(np.fft.fftfreq(width, d=pixel_size_um))  # Frequency axis (x)\n",
        "freq_y = np.fft.fftshift(np.fft.fftfreq(height, d=pixel_size_um))  # Frequency axis (y)\n",
        "\n",
        "# Plot the original image and the Fourier Transform\n",
        "plt.figure(figsize=(10, 5))\n",
        "\n",
        "# Original image\n",
        "plt.subplot(1, 2, 1)\n",
        "plt.title('Original Image')\n",
        "plt.imshow(image_array, cmap='gray')\n",
        "plt.axis('off')\n",
        "\n",
        "# Magnitude spectrum with scaling\n",
        "plt.subplot(1, 2, 2)\n",
        "plt.title('2D Fourier Transform')\n",
        "plt.imshow(magnitude_spectrum, cmap='viridis', extent=[freq_x.min(), freq_x.max(), freq_y.min(), freq_y.max()])\n",
        "plt.colorbar(label='Magnitude (log scale)')\n",
        "plt.xlabel('Spatial Frequency (μm⁻¹)')\n",
        "plt.ylabel('Spatial Frequency (μm⁻¹)')\n",
        "\n",
        "plt.tight_layout()\n",
        "plt.show()\n"
      ]
    },
    {
      "cell_type": "code",
      "source": [],
      "metadata": {
        "id": "UUjwarr_5_WN"
      },
      "execution_count": null,
      "outputs": []
    },
    {
      "cell_type": "code",
      "source": [],
      "metadata": {
        "id": "gPtpuHAv4GAZ"
      },
      "execution_count": null,
      "outputs": []
    }
  ]
}